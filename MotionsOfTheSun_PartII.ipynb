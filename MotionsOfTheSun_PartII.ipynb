{
 "cells": [
  {
   "cell_type": "code",
   "execution_count": 1,
   "metadata": {},
   "outputs": [],
   "source": [
    "# Numerical functions\n",
    "import numpy as np\n",
    "# Plotting\n",
    "import matplotlib.pyplot as plt\n",
    "# Units and physical constants\n",
    "from astropy import units as u\n",
    "from astropy import constants as c\n",
    "# pandas allows us to work with spreadsheets in python\n",
    "import pandas as pd\n",
    "# This allows matplotlib to understand times imported from the spreadsheet\n",
    "from pandas.plotting import register_matplotlib_converters\n",
    "register_matplotlib_converters()\n",
    "# Calculations involving the visibility of astronomical objects\n",
    "import astroplan as ap\n",
    "from astroplan import download_IERS_A\n",
    "try:\n",
    "    download_IERS_A()\n",
    "except:\n",
    "    print('Unable to download ephemeris data.')\n",
    "# Utilities for manipulating coordinates\n",
    "from astropy.time import Time\n",
    "from astropy.coordinates import EarthLocation, get_body, AltAz\n",
    "from astropy.coordinates import FK5, GCRS, SkyCoord, Angle"
   ]
  },
  {
   "cell_type": "code",
   "execution_count": 2,
   "metadata": {},
   "outputs": [
    {
     "name": "stdout",
     "output_type": "stream",
     "text": [
      "4.0\n",
      "0.6\n"
     ]
    }
   ],
   "source": [
    "import astropy\n",
    "print(astropy.__version__)\n",
    "print(ap.__version__)"
   ]
  },
  {
   "cell_type": "code",
   "execution_count": 3,
   "metadata": {},
   "outputs": [],
   "source": [
    "# Change the name in quotes to match the name of your spreadsheet\n",
    "sun_stellarium = pd.read_excel('SunPositions.xlsx')"
   ]
  },
  {
   "cell_type": "code",
   "execution_count": 4,
   "metadata": {},
   "outputs": [],
   "source": [
    "# Make sure the latitude and longitude match what Stellarium is assuming.\n",
    "loc = EarthLocation(lat='39d57m8.39s',lon='-75d9m49.64s')\n",
    "\"\"\" If we don't specify a time, the conversion assumes midnight UTC\n",
    "We can make the time be noon by shifting by 17 hours (midnight to noon, and then the time\n",
    "change).  \"\"\"\n",
    "date_noon = Time(np.array(sun_stellarium['date']), location=loc)+17*u.hr\n",
    "# Just to simplify for plotting\n",
    "date = date_noon.datetime64\n",
    "# Ephemerides from astropy\n",
    "sun_ephem_noon = get_body('sun', date_noon, loc)"
   ]
  },
  {
   "cell_type": "markdown",
   "metadata": {},
   "source": [
    "# Question 1"
   ]
  },
  {
   "cell_type": "markdown",
   "metadata": {},
   "source": [
    "# Question 2"
   ]
  },
  {
   "cell_type": "code",
   "execution_count": null,
   "metadata": {},
   "outputs": [],
   "source": [
    "# Define an object and an observing location for astroplan\n",
    "sun_ap = ap.FixedTarget(sun_ephem_noon)\n",
    "philly = ap.Observer(location=loc)"
   ]
  },
  {
   "cell_type": "markdown",
   "metadata": {},
   "source": [
    "Get the transit time closest to noon\n",
    " https://astroplan.readthedocs.io/en/latest/api/astroplan.Observer.html#astroplan.Observer.target_meridian_transit_time"
   ]
  },
  {
   "cell_type": "code",
   "execution_count": 643,
   "metadata": {},
   "outputs": [],
   "source": [
    "# Setting n_grid_points higher than 150 really improves the accuracy\n",
    "sun_transit_ap = philly.target_meridian_transit_time(date_noon, sun_ap, n_grid_points=3000)"
   ]
  },
  {
   "cell_type": "markdown",
   "metadata": {},
   "source": [
    "# Question 3"
   ]
  },
  {
   "cell_type": "code",
   "execution_count": 647,
   "metadata": {},
   "outputs": [],
   "source": [
    "# This is an attempt to get the sun ephemeris, which is calculated in GCRS (effectively J2000?) into the current epoch\n",
    "# I'm surprised by how hard this actually is ..\n",
    "def SunEphemCurrentEpoch(sun_get_body, current_epoch):\n",
    "    \"\"\" Transform the get_body('sun') RA/Dec in GCRS to a current \n",
    "    epoch RA/Dec.  current_epoch is a string 'JYYYY' where YYYY \n",
    "    is the desired decimal year \"\"\"\n",
    "    sun_skycoord = []\n",
    "    for eph in sun_get_body:\n",
    "        skycoord = SkyCoord(ra=eph.ra.deg*u.deg, dec=eph.dec.deg*u.deg, frame=GCRS, equinox='J2000.0')\n",
    "        sun_skycoord.append(skycoord.transform_to(FK5(equinox=current_epoch)))\n",
    "    \n",
    "    sun_skycoord = SkyCoord(sun_skycoord)\n",
    "    \n",
    "    return sun_skycoord"
   ]
  },
  {
   "cell_type": "markdown",
   "metadata": {},
   "source": [
    "# Question 4"
   ]
  },
  {
   "cell_type": "code",
   "execution_count": null,
   "metadata": {},
   "outputs": [],
   "source": [
    "LST = date_noon.sidereal_time('apparent').hour)"
   ]
  },
  {
   "cell_type": "markdown",
   "metadata": {},
   "source": [
    "# Question 5"
   ]
  },
  {
   "cell_type": "code",
   "execution_count": 572,
   "metadata": {},
   "outputs": [],
   "source": [
    "sun_noon_altaz = sun_ephem_noon.transform_to(AltAz(obstime = date_noon, location = loc))"
   ]
  },
  {
   "cell_type": "code",
   "execution_count": null,
   "metadata": {},
   "outputs": [],
   "source": []
  }
 ],
 "metadata": {
  "anaconda-cloud": {},
  "kernelspec": {
   "display_name": "Python 3",
   "language": "python",
   "name": "python3"
  },
  "language_info": {
   "codemirror_mode": {
    "name": "ipython",
    "version": 3
   },
   "file_extension": ".py",
   "mimetype": "text/x-python",
   "name": "python",
   "nbconvert_exporter": "python",
   "pygments_lexer": "ipython3",
   "version": "3.6.7"
  }
 },
 "nbformat": 4,
 "nbformat_minor": 1
}
