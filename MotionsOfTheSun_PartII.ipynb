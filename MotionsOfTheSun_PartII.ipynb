{
 "cells": [
  {
   "cell_type": "code",
   "execution_count": 5,
   "metadata": {},
   "outputs": [],
   "source": [
    "# Numerical functions\n",
    "import numpy as np\n",
    "# Plotting\n",
    "import matplotlib.pyplot as plt\n",
    "# Units and physical constants\n",
    "from astropy import units as u\n",
    "from astropy import constants as c\n",
    "# pandas allows us to work with spreadsheets in python\n",
    "import pandas as pd\n",
    "# This allows matplotlib to understand times imported from the spreadsheet\n",
    "from pandas.plotting import register_matplotlib_converters\n",
    "register_matplotlib_converters()\n",
    "# Calculations involving the visibility of astronomical objects\n",
    "import astroplan as ap\n",
    "ap.get_IERS_A_or_workaround()\n",
    "# Utilities for manipulating coordinates\n",
    "from astropy.time import Time\n",
    "from astropy.coordinates import EarthLocation, get_body, AltAz\n",
    "from astropy.coordinates import FK5, GCRS, SkyCoord, Angle"
   ]
  },
  {
   "cell_type": "code",
   "execution_count": 6,
   "metadata": {},
   "outputs": [
    {
     "name": "stdout",
     "output_type": "stream",
     "text": [
      "4.0\n",
      "0.6\n"
     ]
    }
   ],
   "source": [
    "import astropy\n",
    "print(astropy.__version__)\n",
    "print(ap.__version__)"
   ]
  },
  {
   "cell_type": "code",
   "execution_count": 7,
   "metadata": {},
   "outputs": [],
   "source": [
    "# Change the name in quotes to match the name of your spreadsheet\n",
    "sun_stellarium = pd.read_excel('SunPositions.xlsx')"
   ]
  },
  {
   "cell_type": "code",
   "execution_count": 8,
   "metadata": {},
   "outputs": [],
   "source": [
    "# Make sure the latitude and longitude match what Stellarium is assuming.\n",
    "loc = EarthLocation(lat='39d57m8.39s',lon='-75d9m49.64s')\n",
    "\"\"\" If we don't specify a time, the conversion assumes midnight UTC\n",
    "We can make the time be noon by shifting by 17 hours (midnight to noon, and then the time\n",
    "change).  \"\"\"\n",
    "date_noon = Time(np.array(sun_stellarium['date']), location=loc)+17*u.hr\n",
    "# Just to simplify for plotting\n",
    "date = date_noon.datetime64\n",
    "# Ephemerides from astropy\n",
    "sun_ephem_noon = get_body('sun', date_noon, loc)"
   ]
  },
  {
   "cell_type": "code",
   "execution_count": 13,
   "metadata": {},
   "outputs": [
    {
     "data": {
      "text/plain": [
       "array([281.94166822, 297.20118832, 314.99675161, 328.93154951,\n",
       "       342.28528009, 355.23045488,  10.72156031,  23.55994555,\n",
       "        38.5892705 ,  52.19738747,  69.31918702,  83.78116621,\n",
       "       100.39505113, 114.72665905, 131.5720841 , 144.9141018 ,\n",
       "       160.5493538 , 173.15487725, 187.53538221, 200.36666767,\n",
       "       216.56852661, 230.61950857, 247.49105334, 262.81822642])"
      ]
     },
     "execution_count": 13,
     "metadata": {},
     "output_type": "execute_result"
    }
   ],
   "source": [
    "sun_ephem_noon.ra.deg"
   ]
  },
  {
   "cell_type": "markdown",
   "metadata": {},
   "source": [
    "# Question 1"
   ]
  },
  {
   "cell_type": "markdown",
   "metadata": {},
   "source": [
    "# Question 2"
   ]
  },
  {
   "cell_type": "code",
   "execution_count": null,
   "metadata": {},
   "outputs": [],
   "source": [
    "# Define an object and an observing location for astroplan\n",
    "sun_ap = ap.FixedTarget(sun_ephem_noon)\n",
    "philly = ap.Observer(location=loc)"
   ]
  },
  {
   "cell_type": "markdown",
   "metadata": {},
   "source": [
    "Get the transit time closest to noon\n",
    " https://astroplan.readthedocs.io/en/latest/api/astroplan.Observer.html#astroplan.Observer.target_meridian_transit_time"
   ]
  },
  {
   "cell_type": "code",
   "execution_count": 643,
   "metadata": {},
   "outputs": [],
   "source": [
    "# Setting n_grid_points higher than 150 really improves the accuracy\n",
    "sun_transit_ap = philly.target_meridian_transit_time(date_noon, sun_ap, n_grid_points=3000)"
   ]
  },
  {
   "cell_type": "markdown",
   "metadata": {},
   "source": [
    "# Question 3"
   ]
  },
  {
   "cell_type": "code",
   "execution_count": 647,
   "metadata": {},
   "outputs": [],
   "source": [
    "# This is an attempt to get the sun ephemeris, which is calculated in GCRS (effectively J2000?) into the current epoch\n",
    "# I'm surprised by how hard this actually is ..\n",
    "def SunEphemCurrentEpoch(sun_get_body, current_epoch):\n",
    "    \"\"\" Transform the get_body('sun') RA/Dec in GCRS to a current \n",
    "    epoch RA/Dec.  current_epoch is a string 'JYYYY' where YYYY \n",
    "    is the desired decimal year \"\"\"\n",
    "    sun_skycoord = []\n",
    "    for eph in sun_get_body:\n",
    "        skycoord = SkyCoord(ra=eph.ra.deg*u.deg, dec=eph.dec.deg*u.deg, frame=GCRS, equinox='J2000.0')\n",
    "        sun_skycoord.append(skycoord.transform_to(FK5(equinox=current_epoch)))\n",
    "    \n",
    "    sun_skycoord = SkyCoord(sun_skycoord)\n",
    "    \n",
    "    return sun_skycoord"
   ]
  },
  {
   "cell_type": "markdown",
   "metadata": {},
   "source": [
    "# Question 4"
   ]
  },
  {
   "cell_type": "code",
   "execution_count": null,
   "metadata": {},
   "outputs": [],
   "source": [
    "LST = date_noon.sidereal_time('apparent').hour)"
   ]
  },
  {
   "cell_type": "markdown",
   "metadata": {},
   "source": [
    "# Question 5"
   ]
  },
  {
   "cell_type": "code",
   "execution_count": 572,
   "metadata": {},
   "outputs": [],
   "source": [
    "sun_noon_altaz = sun_ephem_noon.transform_to(AltAz(obstime = date_noon, location = loc))"
   ]
  },
  {
   "cell_type": "code",
   "execution_count": null,
   "metadata": {},
   "outputs": [],
   "source": []
  }
 ],
 "metadata": {
  "anaconda-cloud": {},
  "kernelspec": {
   "display_name": "Python 3",
   "language": "python",
   "name": "python3"
  },
  "language_info": {
   "codemirror_mode": {
    "name": "ipython",
    "version": 3
   },
   "file_extension": ".py",
   "mimetype": "text/x-python",
   "name": "python",
   "nbconvert_exporter": "python",
   "pygments_lexer": "ipython3",
   "version": "3.6.7"
  }
 },
 "nbformat": 4,
 "nbformat_minor": 1
}
