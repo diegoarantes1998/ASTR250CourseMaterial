{
 "cells": [
  {
   "cell_type": "markdown",
   "metadata": {},
   "source": [
    "You may also find this tutorial useful\n",
    "https://astroplan.readthedocs.io/en/latest/tutorials/summer_triangle.html"
   ]
  },
  {
   "cell_type": "code",
   "execution_count": 2,
   "metadata": {},
   "outputs": [
    {
     "name": "stdout",
     "output_type": "stream",
     "text": [
      "3.6.7 | packaged by conda-forge | (default, Nov  6 2019, 16:03:31) \n",
      "[GCC Clang 9.0.0 (tags/RELEASE_900/final)]\n",
      "numpy 1.18.1\n",
      "astropy 4.0\n",
      "astroplan 0.6\n",
      "astroquery 0.6\n"
     ]
    }
   ],
   "source": [
    "import sys\n",
    "print(sys.version)\n",
    "import numpy\n",
    "print('numpy',numpy.__version__)\n",
    "import astropy\n",
    "print('astropy',astropy.__version__)\n",
    "import astroplan\n",
    "print('astroplan',astroplan.__version__)\n",
    "import astroquery\n",
    "print('astroquery',astroplan.__version__)"
   ]
  },
  {
   "cell_type": "code",
   "execution_count": 3,
   "metadata": {},
   "outputs": [],
   "source": [
    "import numpy as np\n",
    "import matplotlib.pyplot as plt\n",
    "from astropy import units as u\n",
    "from astropy import constants as c\n",
    "from astropy.time import Time\n",
    "# Basic coordinates\n",
    "from astropy.coordinates import EarthLocation, SkyCoord, AltAz\n",
    "# Ephemerides\n",
    "from astropy.coordinates import solar_system_ephemeris, get_body_barycentric, get_body, get_moon\n",
    "# Astroplan\n",
    "import astroplan as ap\n",
    "from astroplan import download_IERS_A\n",
    "#ap.get_IERS_A_or_workaround()\n",
    "download_IERS_A()\n",
    "from pytz import timezone\n",
    "import astroplan.plots as applot"
   ]
  },
  {
   "cell_type": "code",
   "execution_count": 4,
   "metadata": {},
   "outputs": [],
   "source": [
    "# Check that this matches Stellarium, or we will have a hard time comparing!\n",
    "philly_loc = EarthLocation(lat='+39d57m35s',lon='-75d11m49s')\n",
    "philly_obs = ap.Observer(location=philly_loc,name='Philadelphia',timezone=timezone('US/Eastern'))"
   ]
  },
  {
   "cell_type": "code",
   "execution_count": 6,
   "metadata": {},
   "outputs": [],
   "source": [
    "# Examples of creating astroplan targets\n",
    "# By name\n",
    "altair = ap.FixedTarget.from_name('Altair')\n",
    "vega = ap.FixedTarget.from_name('Vega')\n",
    "m82 = ap.FixedTarget.from_name('M82')\n",
    "m37 = ap.FixedTarget.from_name('M37')\n",
    "rigel = ap.FixedTarget.from_name('Rigel')\n",
    "# From coordinates\n",
    "example_coords = SkyCoord('3h19m41.6s','75d59m44.7s',frame='icrs')\n",
    "example = ap.FixedTarget(name='Example',coord=example_coords)"
   ]
  },
  {
   "cell_type": "code",
   "execution_count": 20,
   "metadata": {},
   "outputs": [
    {
     "name": "stdout",
     "output_type": "stream",
     "text": [
      "Local time: 2020-02-11 21:00:00.000\n",
      "UTC time: 2020-02-12 02:00:00.000\n"
     ]
    }
   ],
   "source": [
    "# All times, by default, are entered as UTC.  Getting astropy to understand\n",
    "# local times zones is hard.  So we have to do it by hand.\n",
    "# The current UTC offset for Philadelphia is 5 hours earlier.\n",
    "utc_offset = -5.0*u.hour\n",
    "time_local = Time('2020-02-11 21:00:00', location=philly_loc)\n",
    "#UTC\n",
    "time_utc = time_local-utc_offset \n",
    "print('Local time:',time_local)\n",
    "print('UTC time:',time_obs)"
   ]
  }
 ],
 "metadata": {
  "anaconda-cloud": {},
  "kernelspec": {
   "display_name": "Python 3",
   "language": "python",
   "name": "python3"
  },
  "language_info": {
   "codemirror_mode": {
    "name": "ipython",
    "version": 3
   },
   "file_extension": ".py",
   "mimetype": "text/x-python",
   "name": "python",
   "nbconvert_exporter": "python",
   "pygments_lexer": "ipython3",
   "version": "3.6.7"
  }
 },
 "nbformat": 4,
 "nbformat_minor": 2
}
