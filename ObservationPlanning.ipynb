{
 "cells": [
  {
   "cell_type": "markdown",
   "metadata": {},
   "source": [
    "You may also find this tutorial useful\n",
    "https://astroplan.readthedocs.io/en/latest/tutorials/summer_triangle.html"
   ]
  },
  {
   "cell_type": "code",
   "execution_count": 1,
   "metadata": {},
   "outputs": [
    {
     "name": "stdout",
     "output_type": "stream",
     "text": [
      "3.7.6 (default, Jan  8 2020, 13:42:34) \n",
      "[Clang 4.0.1 (tags/RELEASE_401/final)]\n",
      "numpy 1.18.1\n",
      "astropy 4.0\n",
      "astroplan 0.6\n"
     ]
    }
   ],
   "source": [
    "import sys\n",
    "print(sys.version)\n",
    "import numpy\n",
    "print('numpy',numpy.__version__)\n",
    "import astropy\n",
    "print('astropy',astropy.__version__)\n",
    "import astroplan\n",
    "print('astroplan',astroplan.__version__)"
   ]
  },
  {
   "cell_type": "code",
   "execution_count": 22,
   "metadata": {},
   "outputs": [],
   "source": [
    "import numpy as np\n",
    "import matplotlib.pyplot as plt\n",
    "from astropy import units as u\n",
    "from astropy import constants as c\n",
    "from astropy.time import Time\n",
    "# Basic coordinates\n",
    "from astropy.coordinates import EarthLocation, SkyCoord, AltAz\n",
    "# Astroplan\n",
    "import astroplan as ap\n",
    "from astroplan import download_IERS_A\n",
    "download_IERS_A()\n",
    "import astroplan.plots as applot\n",
    "import matplotlib.dates as mdates"
   ]
  },
  {
   "cell_type": "code",
   "execution_count": 23,
   "metadata": {},
   "outputs": [],
   "source": [
    "# Check that this matches Stellarium, or we will have a hard time comparing!\n",
    "philly_loc = EarthLocation(lat='+39d57m35s',lon='-75d11m49s',height='12m')\n",
    "# astroplan observer\n",
    "philly_obs = ap.Observer(location=philly_loc,name='Philadelphia')"
   ]
  },
  {
   "cell_type": "code",
   "execution_count": 24,
   "metadata": {},
   "outputs": [],
   "source": [
    "# Examples of creating astroplan targets\n",
    "# By name\n",
    "m82 = ap.FixedTarget.from_name('M82')\n",
    "\n",
    "# From coordinates\n",
    "example_coords = SkyCoord('3h19m41.6s','75d59m44.7s',frame='icrs')\n",
    "example = ap.FixedTarget(name='Example',coord=example_coords)"
   ]
  },
  {
   "cell_type": "code",
   "execution_count": 25,
   "metadata": {},
   "outputs": [
    {
     "name": "stdout",
     "output_type": "stream",
     "text": [
      "M82 09h55m52.43s +69d40m46.93s\n"
     ]
    }
   ],
   "source": [
    "print('M82', m82.coord.to_string('hmsdms'))"
   ]
  },
  {
   "cell_type": "code",
   "execution_count": 26,
   "metadata": {},
   "outputs": [
    {
     "name": "stdout",
     "output_type": "stream",
     "text": [
      "Local time: 2020-02-11 21:00:00.000\n",
      "UTC time: 2020-02-12 02:00:00.000\n"
     ]
    }
   ],
   "source": [
    "# All times, by default, are entered as UTC.  Getting astropy to understand\n",
    "# local times zones is hard.  So we have to do it by hand.\n",
    "# The current UTC offset for Philadelphia is 5 hours earlier.\n",
    "utc_offset = -5.0*u.hour\n",
    "dt = np.arange(-12,13,0.5)*u.hr\n",
    "#UTC\n",
    "time0_utc = Time('2020-02-11 21:00:00')-utc_offset \n",
    "times = time0_utc + dt\n",
    "print('Local time:',time0_utc+utc_offset)\n",
    "print('UTC time:',time0_utc)"
   ]
  },
  {
   "cell_type": "markdown",
   "metadata": {},
   "source": [
    "Check out methods associated with `philly_obs`: `target_meridian_transit_time`, `target_rise_time`, `target_set_time`, `is_night`"
   ]
  },
  {
   "cell_type": "markdown",
   "metadata": {},
   "source": [
    "For help on getting your dates to format nicely in plots, see https://matplotlib.org/3.1.1/api/dates_api.html"
   ]
  }
 ],
 "metadata": {
  "anaconda-cloud": {},
  "kernelspec": {
   "display_name": "Python 3",
   "language": "python",
   "name": "python3"
  },
  "language_info": {
   "codemirror_mode": {
    "name": "ipython",
    "version": 3
   },
   "file_extension": ".py",
   "mimetype": "text/x-python",
   "name": "python",
   "nbconvert_exporter": "python",
   "pygments_lexer": "ipython3",
   "version": "3.7.6"
  }
 },
 "nbformat": 4,
 "nbformat_minor": 2
}
